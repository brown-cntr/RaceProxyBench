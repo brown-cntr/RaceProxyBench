{
 "cells": [
  {
   "cell_type": "code",
   "execution_count": null,
   "id": "b9afeb8f",
   "metadata": {},
   "outputs": [],
   "source": [
    "import numpy as np\n",
    "import pandas as pd\n",
    "import surgeo\n",
    "import matplotlib.pyplot as plt\n",
    "import json"
   ]
  },
  {
   "cell_type": "code",
   "execution_count": null,
   "id": "5656fee0",
   "metadata": {},
   "outputs": [],
   "source": [
    "# load the zip-to-zip distance matrix\n",
    "distances = np.load('zip_to_zip_distances.npy')"
   ]
  },
  {
   "cell_type": "code",
   "execution_count": null,
   "id": "42f97b85",
   "metadata": {},
   "outputs": [],
   "source": [
    "# load the zctas index\n",
    "zctas = json.loads(open('zctas.json').read())"
   ]
  },
  {
   "cell_type": "code",
   "execution_count": null,
   "id": "1ab462de",
   "metadata": {},
   "outputs": [],
   "source": [
    "def get_zip_in_range(zcta, zctas, distances, dist_min, dist_max):\n",
    "    index = zctas.index(zcta)\n",
    "    candidates = np.nonzero((distances[index, :] >= dist_min) & (distances[index, :] <= dist_max))[0]\n",
    "    \n",
    "    if len(candidates) == 0:\n",
    "        return zcta  # No candidates, return the original zcta without changing\n",
    "    \n",
    "    return zctas[np.random.choice(candidates)]\n",
    "\n",
    "def get_zip_with_error(zcta, zctas, distances, err_distances, err_probs):\n",
    "    dist_max_idx = np.random.choice(np.arange(len(err_distances)), p=err_probs)\n",
    "    dist_max = err_distances[dist_max_idx]\n",
    "    if dist_max_idx == 0:\n",
    "        dist_min = 0\n",
    "    else:\n",
    "        dist_min = err_distances[dist_max_idx-1]\n",
    "    return get_zip_in_range(zcta, zctas, distances, dist_min, dist_max)"
   ]
  },
  {
   "cell_type": "code",
   "execution_count": null,
   "id": "128aab37",
   "metadata": {},
   "outputs": [],
   "source": [
    "dist = list(np.linspace(5, 100, 20)) + [100]\n",
    "probs = [.59, .63, .68, .72, .76, .78, .81, .83, .85, .86, .87, .88, .89, .895, .9, .905, .91, .9125, .925, .93, 1]\n",
    "p = [probs[0]]\n",
    "for idx in range(1, len(probs)):\n",
    "    p.append(probs[idx]-probs[idx-1])"
   ]
  },
  {
   "cell_type": "code",
   "execution_count": null,
   "id": "30fdfcdd",
   "metadata": {},
   "outputs": [],
   "source": [
    "voters = pd.read_csv('data.csv') # this is the filtered data with 6975377 obs\n",
    "voters['zcta'] = voters['zcta'].astype(int).astype(str)"
   ]
  },
  {
   "cell_type": "code",
   "execution_count": null,
   "id": "2b035584",
   "metadata": {},
   "outputs": [],
   "source": [
    "import numpy as np\n",
    "import pandas as pd\n",
    "\n",
    "def perturb_zipcodes_batch(voters, zctas, distances, dist, p, perturb_ratio=0.05, random_state=42):\n",
    "    np.random.seed(random_state)\n",
    "\n",
    "    n_total = len(voters)\n",
    "    n_perturb = int(np.floor(perturb_ratio * n_total))\n",
    "\n",
    "    voters = voters.copy()\n",
    "    voters['Swapped_zcta'] = voters['zcta']\n",
    "\n",
    "    # Step 1: Randomly pre-select 5% of voters\n",
    "    selected_idx = np.random.choice(voters.index, n_perturb, replace=False)\n",
    "\n",
    "    # Step 2: Try to perturb all selected voters at once\n",
    "    successful_perturb = []\n",
    "    for idx in selected_idx:\n",
    "        original_zcta = voters.loc[idx, 'zcta']\n",
    "        swapped = get_zip_with_error(original_zcta, zctas, distances, dist, p)\n",
    "\n",
    "        if swapped != original_zcta:\n",
    "            voters.at[idx, 'Swapped_zcta'] = swapped\n",
    "            successful_perturb.append(idx)\n",
    "    \n",
    "    # Step 3: If not enough perturbations succeeded, supplement more\n",
    "    while len(successful_perturb) < n_perturb:\n",
    "        needed = n_perturb - len(successful_perturb)\n",
    "        \n",
    "        available_idx = list(set(voters.index) - set(successful_perturb))\n",
    "        new_selected = np.random.choice(available_idx, needed, replace=False)\n",
    "        \n",
    "        for idx in new_selected:\n",
    "            original_zcta = voters.loc[idx, 'zcta']\n",
    "            swapped = get_zip_with_error(original_zcta, zctas, distances, dist, p)\n",
    "            if swapped != original_zcta:\n",
    "                voters.at[idx, 'Swapped_zcta'] = swapped\n",
    "                successful_perturb.append(idx)\n",
    "\n",
    "    return voters"
   ]
  },
  {
   "cell_type": "code",
   "execution_count": null,
   "id": "0f6226dc",
   "metadata": {},
   "outputs": [],
   "source": [
    "voters1 = perturb_zipcodes_batch(voters, zctas, distances, dist, p, perturb_ratio=0.2, random_state=123)"
   ]
  },
  {
   "cell_type": "code",
   "execution_count": null,
   "id": "832cf506",
   "metadata": {},
   "outputs": [],
   "source": [
    "voters1.to_csv(\"data_zp_20.csv\", index=False)"
   ]
  }
 ],
 "metadata": {
  "language_info": {
   "name": "python"
  }
 },
 "nbformat": 4,
 "nbformat_minor": 5
}
